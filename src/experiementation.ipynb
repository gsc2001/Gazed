{
 "cells": [
  {
   "cell_type": "code",
   "execution_count": 1,
   "metadata": {},
   "outputs": [],
   "source": [
    "import cv2\n",
    "import numpy as np\n",
    "import glob"
   ]
  },
  {
   "cell_type": "code",
   "execution_count": 2,
   "metadata": {},
   "outputs": [],
   "source": [
    "participants = ['a1', 'a2', 'a3', 'a4', 'a5']\n",
    "shots_files = glob.glob('../data/bbc_data/shots/*.csv')\n"
   ]
  },
  {
   "cell_type": "code",
   "execution_count": 3,
   "metadata": {},
   "outputs": [],
   "source": [
    "shots_names = []\n",
    "for i in range(1, 5):\n",
    "    for j in range(1, 7 - i):\n",
    "        shot_name = '-'.join(participants[j-1:j+i-1])\n",
    "        if i == 1: shot_name += '-MS'\n",
    "        else: shot_name += '-FS'\n",
    "        shots_names.append(shot_name)"
   ]
  },
  {
   "cell_type": "code",
   "execution_count": 4,
   "metadata": {},
   "outputs": [],
   "source": [
    "cap = cv2.VideoCapture('../data/bbc_data/old_school.mp4')"
   ]
  },
  {
   "cell_type": "code",
   "execution_count": 5,
   "metadata": {},
   "outputs": [],
   "source": [
    "shot_tracks = {}\n",
    "for shot in shots_names:\n",
    "    shot_tracks[shot] = []\n",
    "    with open('../data/bbc_data/shots/bbc-{}.csv'.format(shot), 'r') as f:\n",
    "        for line in f:\n",
    "            shot_tracks[shot].append([float(x) for x in line.strip().split(',')])"
   ]
  },
  {
   "cell_type": "code",
   "execution_count": 6,
   "metadata": {},
   "outputs": [],
   "source": [
    "frame_paths = glob.glob('../data/bbc_data/frames/*.png')"
   ]
  },
  {
   "cell_type": "code",
   "execution_count": 7,
   "metadata": {},
   "outputs": [],
   "source": [
    "cap = cv2.VideoCapture('../data/bbc_data/bbc_oldschool_unedited.mp4')"
   ]
  },
  {
   "cell_type": "code",
   "execution_count": 8,
   "metadata": {},
   "outputs": [
    {
     "ename": "KeyboardInterrupt",
     "evalue": "",
     "output_type": "error",
     "traceback": [
      "\u001b[0;31m---------------------------------------------------------------------------\u001b[0m",
      "\u001b[0;31mKeyboardInterrupt\u001b[0m                         Traceback (most recent call last)",
      "Cell \u001b[0;32mIn[8], line 12\u001b[0m\n\u001b[1;32m     10\u001b[0m     cv2\u001b[39m.\u001b[39mrectangle(frame, (\u001b[39mint\u001b[39m(shot_tracks[shot][i][\u001b[39m0\u001b[39m]), \u001b[39mint\u001b[39m(shot_tracks[shot][i][\u001b[39m1\u001b[39m])), (\u001b[39mint\u001b[39m(shot_tracks[shot][i][\u001b[39m2\u001b[39m]), \u001b[39mint\u001b[39m(shot_tracks[shot][i][\u001b[39m3\u001b[39m])), colors[idx], \u001b[39m2\u001b[39m)\n\u001b[1;32m     11\u001b[0m     cv2\u001b[39m.\u001b[39mputText(frame, shot, (\u001b[39mint\u001b[39m(shot_tracks[shot][i][\u001b[39m0\u001b[39m]), \u001b[39mint\u001b[39m(shot_tracks[shot][i][\u001b[39m1\u001b[39m]) \u001b[39m-\u001b[39m \u001b[39m10\u001b[39m), cv2\u001b[39m.\u001b[39mFONT_HERSHEY_SIMPLEX, \u001b[39m0.5\u001b[39m, colors[idx], \u001b[39m2\u001b[39m)\n\u001b[0;32m---> 12\u001b[0m cv2\u001b[39m.\u001b[39;49mimshow(\u001b[39m'\u001b[39;49m\u001b[39mframe\u001b[39;49m\u001b[39m'\u001b[39;49m, frame)\n\u001b[1;32m     14\u001b[0m \u001b[39mif\u001b[39;00m cv2\u001b[39m.\u001b[39mwaitKey(\u001b[39m1\u001b[39m) \u001b[39m&\u001b[39m \u001b[39m0xFF\u001b[39m \u001b[39m==\u001b[39m \u001b[39mord\u001b[39m(\u001b[39m'\u001b[39m\u001b[39mq\u001b[39m\u001b[39m'\u001b[39m):\n\u001b[1;32m     15\u001b[0m     \u001b[39mbreak\u001b[39;00m\n",
      "\u001b[0;31mKeyboardInterrupt\u001b[0m: "
     ]
    }
   ],
   "source": [
    "i = 0\n",
    "colors = [(0, 255, 0), (0, 0, 255), (255, 0, 0), (255, 255, 0), (0, 255, 255)]\n",
    "while True:\n",
    "    ret, frame = cap.read()\n",
    "    if not ret:\n",
    "        break\n",
    "    i += 1 \n",
    "\n",
    "    for idx, shot in enumerate(shots_names[:5]):\n",
    "        cv2.rectangle(frame, (int(shot_tracks[shot][i][0]), int(shot_tracks[shot][i][1])), (int(shot_tracks[shot][i][2]), int(shot_tracks[shot][i][3])), colors[idx], 2)\n",
    "        cv2.putText(frame, shot, (int(shot_tracks[shot][i][0]), int(shot_tracks[shot][i][1]) - 10), cv2.FONT_HERSHEY_SIMPLEX, 0.5, colors[idx], 2)\n",
    "    cv2.imshow('frame', frame)\n",
    "    \n",
    "    if cv2.waitKey(1) & 0xFF == ord('q'):\n",
    "        break"
   ]
  },
  {
   "cell_type": "code",
   "execution_count": null,
   "metadata": {},
   "outputs": [],
   "source": []
  }
 ],
 "metadata": {
  "kernelspec": {
   "display_name": "video_editing",
   "language": "python",
   "name": "python3"
  },
  "language_info": {
   "codemirror_mode": {
    "name": "ipython",
    "version": 3
   },
   "file_extension": ".py",
   "mimetype": "text/x-python",
   "name": "python",
   "nbconvert_exporter": "python",
   "pygments_lexer": "ipython3",
   "version": "3.8.16"
  },
  "orig_nbformat": 4
 },
 "nbformat": 4,
 "nbformat_minor": 2
}
