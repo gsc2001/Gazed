{
 "cells": [
  {
   "cell_type": "code",
   "execution_count": 7,
   "metadata": {},
   "outputs": [
    {
     "name": "stdout",
     "output_type": "stream",
     "text": [
      "The autoreload extension is already loaded. To reload it, use:\n",
      "  %reload_ext autoreload\n"
     ]
    }
   ],
   "source": [
    "from editor import Editor\n",
    "import numpy as np\n",
    "import json\n",
    "%load_ext autoreload\n",
    "%autoreload 2"
   ]
  },
  {
   "cell_type": "code",
   "execution_count": 9,
   "metadata": {},
   "outputs": [],
   "source": [
    "editor = Editor('../config/music_intro.ini')"
   ]
  },
  {
   "cell_type": "code",
   "execution_count": 10,
   "metadata": {},
   "outputs": [
    {
     "data": {
      "text/plain": [
       "1649"
      ]
     },
     "execution_count": 10,
     "metadata": {},
     "output_type": "execute_result"
    }
   ],
   "source": [
    "editor.timesteps"
   ]
  },
  {
   "cell_type": "code",
   "execution_count": 15,
   "metadata": {},
   "outputs": [
    {
     "name": "stdout",
     "output_type": "stream",
     "text": [
      "guitar 0 355\n",
      "middle 118 158\n",
      "middle 414 529\n",
      "middle 570 578\n",
      "middle 733 929\n",
      "guitar 928 1094\n",
      "middle 1082 1142\n",
      "middle 1348 1646\n",
      "guitar 1152 1307\n"
     ]
    }
   ],
   "source": [
    "speakers = np.zeros((editor.timesteps, 3),dtype=np.int8)\n",
    "with open('../data/music_intro/speaker_annotations.csv', 'r') as f:\n",
    "    for line in f:\n",
    "        split_line = line.strip().split(',')\n",
    "        start_frame = editor.time_to_frame(float(split_line[2]))\n",
    "        end_frame = editor.time_to_frame(float(split_line[3]))\n",
    "        x = split_line[4][1:-1]\n",
    "        if x[16:-3] == 'Middle Speaker':\n",
    "            print('middle', start_frame, end_frame)\n",
    "            for frame in range(start_frame, end_frame):\n",
    "                assert frame != 0 and end_frame < editor.timesteps\n",
    "                speakers[frame][1] = 1\n",
    "                \n",
    "        elif x[16:-3] == 'Audience/Clapping':\n",
    "            print('guitar', start_frame, end_frame)\n",
    "            for frame in range(start_frame, end_frame):\n",
    "                speakers[frame] = [1,1,1]\n",
    "        "
   ]
  },
  {
   "cell_type": "code",
   "execution_count": 14,
   "metadata": {},
   "outputs": [],
   "source": [
    "with open('../data/music_intro/speakers.txt', 'w') as f:\n",
    "    for speaker in speakers:\n",
    "        f.write(' '.join(speaker.astype(str)) + '\\n')\n"
   ]
  },
  {
   "cell_type": "code",
   "execution_count": null,
   "metadata": {},
   "outputs": [],
   "source": []
  },
  {
   "cell_type": "code",
   "execution_count": null,
   "metadata": {},
   "outputs": [],
   "source": []
  },
  {
   "cell_type": "code",
   "execution_count": null,
   "metadata": {},
   "outputs": [],
   "source": []
  }
 ],
 "metadata": {
  "kernelspec": {
   "display_name": "video_editing",
   "language": "python",
   "name": "python3"
  },
  "language_info": {
   "codemirror_mode": {
    "name": "ipython",
    "version": 3
   },
   "file_extension": ".py",
   "mimetype": "text/x-python",
   "name": "python",
   "nbconvert_exporter": "python",
   "pygments_lexer": "ipython3",
   "version": "3.8.16"
  },
  "orig_nbformat": 4
 },
 "nbformat": 4,
 "nbformat_minor": 2
}
